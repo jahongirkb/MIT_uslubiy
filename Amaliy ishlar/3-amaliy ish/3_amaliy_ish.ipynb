{
  "nbformat": 4,
  "nbformat_minor": 0,
  "metadata": {
    "colab": {
      "provenance": []
    },
    "kernelspec": {
      "name": "python3",
      "display_name": "Python 3"
    },
    "language_info": {
      "name": "python"
    }
  },
  "cells": [
    {
      "cell_type": "code",
      "execution_count": 1,
      "metadata": {
        "id": "e1cD2C009uuY"
      },
      "outputs": [],
      "source": [
        "# NumPy kutubxonasini import qilish\n",
        "import numpy as np"
      ]
    },
    {
      "cell_type": "markdown",
      "source": [
        "1. NumPy array yaratish"
      ],
      "metadata": {
        "id": "Mjgu6Otz-QGH"
      }
    },
    {
      "cell_type": "code",
      "source": [
        "# 1D array yaratish\n",
        "arr_1d = np.array([1, 2, 3, 4, 5])\n",
        "\n",
        "# 2D array yaratish\n",
        "arr_2d = np.array([[1, 2, 3], [4, 5, 6]])\n",
        "\n",
        "# Faqat 0 lardan iborat array yaratish\n",
        "zeros_array = np.zeros((3, 4))\n",
        "\n",
        "# Faqat 1 lardan iborat array yaratish\n",
        "ones_array = np.ones((2, 3))\n",
        "\n",
        "# range qiymatlar yaratish\n",
        "range_array = np.arange(0, 10, 2)\n",
        "\n",
        "# linspace array yaratish\n",
        "linspace_array = np.linspace(0, 1, 5)\n",
        "\n",
        "# Tasodifiy qiymatlar arrayini yaratish\n",
        "random_array = np.random.rand(3, 3)\n",
        "\n",
        "# Identifikatsiya matritsasi yaratish\n",
        "identity_matrix = np.eye(3)\n",
        "\n",
        "# linscpace arrayni ekranga chiqarish\n",
        "linspace_array"
      ],
      "metadata": {
        "colab": {
          "base_uri": "https://localhost:8080/"
        },
        "id": "jR3M1_D9-PWz",
        "outputId": "be098fb0-d745-4626-b477-43a96e85ba7e"
      },
      "execution_count": 2,
      "outputs": [
        {
          "output_type": "execute_result",
          "data": {
            "text/plain": [
              "array([0.  , 0.25, 0.5 , 0.75, 1.  ])"
            ]
          },
          "metadata": {},
          "execution_count": 2
        }
      ]
    },
    {
      "cell_type": "markdown",
      "source": [
        "2. Array ustida amallar"
      ],
      "metadata": {
        "id": "eGe2GC7g-8V8"
      }
    },
    {
      "cell_type": "code",
      "source": [
        "# arraylarni bir biriga qo'shish\n",
        "arr1 = np.array([[1, 2], [3, 4]])\n",
        "arr2 = np.array([[5, 6], [7, 8]])\n",
        "result_add = arr1 + arr2\n",
        "\n",
        "# arraylarni bir-biriga ko'paytirish\n",
        "result_mul = arr1 * arr2\n",
        "\n",
        "# matritsalarni metod orqali ko'paytirish\n",
        "result_dot = np.dot(arr1, arr2)\n",
        "\n",
        "# arrayning transpose qiymatini hisoblash\n",
        "arr_transpose = arr1.T\n",
        "\n",
        "# result_mul natijani ekranga chiqarish\n",
        "result_mul"
      ],
      "metadata": {
        "colab": {
          "base_uri": "https://localhost:8080/"
        },
        "id": "KGBAWJYW922I",
        "outputId": "7082b512-c19c-4718-9bd3-8034690183c3"
      },
      "execution_count": 3,
      "outputs": [
        {
          "output_type": "execute_result",
          "data": {
            "text/plain": [
              "array([[ 5, 12],\n",
              "       [21, 32]])"
            ]
          },
          "metadata": {},
          "execution_count": 3
        }
      ]
    },
    {
      "cell_type": "markdown",
      "source": [
        "3. Indekslash va kesish"
      ],
      "metadata": {
        "id": "UVsezpe-_yF7"
      }
    },
    {
      "cell_type": "code",
      "source": [
        "# 1D array indekslash\n",
        "arr_1d = np.array([1, 2, 3, 4, 5])\n",
        "print(arr_1d[2])  # chiqish: 3\n",
        "\n",
        "# 1D array kesish\n",
        "print(arr_1d[1:4])  # chiqish: [2, 3, 4]\n",
        "\n",
        "# 2D arrayni indekslash\n",
        "arr_2d = np.array([[1, 2, 3], [4, 5, 6]])\n",
        "print(arr_2d[1, 2])  # chiqish: 6\n",
        "\n",
        "# 2D array kesib olish\n",
        "print(arr_2d[:, 1:])"
      ],
      "metadata": {
        "colab": {
          "base_uri": "https://localhost:8080/"
        },
        "id": "abVuqVi5_ojn",
        "outputId": "acfed9cc-a963-40fa-fcb9-2aa5ae44632f"
      },
      "execution_count": 4,
      "outputs": [
        {
          "output_type": "stream",
          "name": "stdout",
          "text": [
            "3\n",
            "[2 3 4]\n",
            "6\n",
            "[[2 3]\n",
            " [5 6]]\n"
          ]
        }
      ]
    },
    {
      "cell_type": "markdown",
      "source": [
        "4. Universal funksiyalar"
      ],
      "metadata": {
        "id": "3TR2SzFIAM_p"
      }
    },
    {
      "cell_type": "code",
      "source": [
        "# arrayning har bir elementini kvadrat ildizini hisoblash\n",
        "arr = np.array([1, 4, 9, 16])\n",
        "sqrt_arr = np.sqrt(arr)\n",
        "\n",
        "# arrayning har bir elemtini exponenta qiymatini hisoblash\n",
        "exp_arr = np.exp(arr)\n",
        "\n",
        "# arrayning har bir qiymati uchun sin() ni hisoblash\n",
        "sin_arr = np.sin(arr)"
      ],
      "metadata": {
        "id": "-8M7sxtyAJjS"
      },
      "execution_count": 5,
      "outputs": []
    },
    {
      "cell_type": "code",
      "source": [],
      "metadata": {
        "id": "1kjz1LXnAhuF"
      },
      "execution_count": null,
      "outputs": []
    }
  ]
}