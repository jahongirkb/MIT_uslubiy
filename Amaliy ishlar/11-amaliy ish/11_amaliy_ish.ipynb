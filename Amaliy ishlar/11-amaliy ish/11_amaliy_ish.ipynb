{
  "nbformat": 4,
  "nbformat_minor": 0,
  "metadata": {
    "colab": {
      "provenance": []
    },
    "kernelspec": {
      "name": "python3",
      "display_name": "Python 3"
    },
    "language_info": {
      "name": "python"
    }
  },
  "cells": [
    {
      "cell_type": "code",
      "execution_count": 1,
      "metadata": {
        "id": "cORFPjD4WZbJ"
      },
      "outputs": [],
      "source": [
        "# Kerakli kutubxonalarni chaqirib olamiz\n",
        "import matplotlib.pyplot as plt\n",
        "import pandas as pd\n",
        "import numpy as np\n"
      ]
    },
    {
      "cell_type": "code",
      "source": [
        "# Ma'lumotlar to‘plamini shakllantirib olish\n",
        "data = {\n",
        "    \"x1\":[10.3, 9.3, 2.7, 11.8, 2.9, 4.3, 3.5, 11.3, 9.7, 2.1, 9.6, 8.5, 4.7, 3.0],\n",
        "    \"x2\":[3.8, 5.1, 8.2, 4.7, 10.6, 9.6, 8.5, 4.3, 3.5, 10.4, 4.0, 3.3, 11.5, 10.3],\n",
        "    \"y\":[\"qimmat\", \"qimmat\", \"arzon\", \"qimmat\", \"arzon\", \"arzon\", \"arzon\", \"qimmat\", \"qimmat\", \"arzon\", \"qimmat\", \"qimmat\", \"arzon\", \"arzon\"]\n",
        "}\n",
        "df = pd.DataFrame(data)\n",
        "\n",
        "data = np.array(df.iloc[:, :2])\n",
        "target = np.array(df[\"y\"])\n"
      ],
      "metadata": {
        "id": "G65en25_WZ_W"
      },
      "execution_count": 2,
      "outputs": []
    },
    {
      "cell_type": "code",
      "source": [
        "# Evklid masofasini hisoblash funksiyasi\n",
        "def euclidean_distance(x1, x2):\n",
        "\n",
        "  return np.sqrt(np.sum((x1 - x2)**2))\n",
        "\n",
        "# KNN sinflash funksiyasi\n",
        "def knn_classify(data, target, query, k):\n",
        "\n",
        "  distances = []\n",
        "  for i in range(len(data)):\n",
        "    distance = euclidean_distance(data[i], query)\n",
        "    distances.append((distance, target[i]))\n",
        "  distances.sort(key=lambda x: x[0])\n",
        "\n",
        "  k_nearest_neighbors = [neighbor for _, neighbor in distances[:k]]\n",
        "  class_counts = {}\n",
        "  for neighbor in k_nearest_neighbors:\n",
        "    class_counts[neighbor] = class_counts.get(neighbor, 0) + 1\n",
        "  return max(class_counts, key=class_counts.get)\n",
        "\n"
      ],
      "metadata": {
        "id": "wrXFKDZSWdh7"
      },
      "execution_count": 3,
      "outputs": []
    },
    {
      "cell_type": "code",
      "source": [
        "# Kiruvchi qiymat\n",
        "query = np.array([4.5, 5.5])\n",
        "k = 3\n",
        "\n",
        "# Bashorat qiymati\n",
        "predicted_class = knn_classify(data, target, query, k)\n",
        "print(f\"Predicted class for query point {query}: {predicted_class}\")\n"
      ],
      "metadata": {
        "colab": {
          "base_uri": "https://localhost:8080/"
        },
        "id": "kpD5D_ybWgtD",
        "outputId": "7902c78d-b42c-415a-d8f4-442f8e2e11b9"
      },
      "execution_count": 4,
      "outputs": [
        {
          "output_type": "stream",
          "name": "stdout",
          "text": [
            "Predicted class for query point [4.5 5.5]: arzon\n"
          ]
        }
      ]
    },
    {
      "cell_type": "code",
      "source": [
        "# nuqtalarni rangini aniqlash\n",
        "colors = {\n",
        "    'qimmat': 'red',\n",
        "    'arzon': 'blue'\n",
        "}\n",
        "\n",
        "# m'lumotlar to‘plami\n",
        "plt.figure(figsize=(8, 6))\n",
        "for i in range(len(data)):\n",
        "  x, y = data[i]\n",
        "  plt.scatter(x, y, color=colors[target[i]])\n",
        "\n",
        "# kiruvchi qiymat\n",
        "query = np.array([4.5, 5.5])\n",
        "plt.scatter(query[0], query[1], marker='o', color='black', s=100)\n",
        "\n",
        "# KNN grafigi\n",
        "k = 3\n",
        "distances = []\n",
        "for i in range(len(data)):\n",
        "  distance = np.sqrt(np.sum((data[i] - query)**2))\n",
        "  distances.append((distance, target[i]))\n",
        "distances.sort(key=lambda x: x[0])\n",
        "\n",
        "k_nearest_neighbors = [neighbor for _, neighbor in distances[:k]]\n",
        "for neighbor in k_nearest_neighbors:\n",
        "  x, y = data[np.where(target == neighbor)[0][0]]\n",
        "  plt.plot([x, query[0]], [y, query[1]], linestyle='--', color='gray')\n",
        "  plt.scatter(x, y, marker='o', color=colors[neighbor], s=50)\n",
        "\n",
        "plt.xlabel('x1')\n",
        "plt.ylabel('x2')\n",
        "plt.title(f\"k-Nearest Neighbors (k={k})\")\n",
        "plt.xlim(0, 11)\n",
        "plt.ylim(0, 11)\n",
        "plt.grid(True)\n",
        "plt.show()\n"
      ],
      "metadata": {
        "colab": {
          "base_uri": "https://localhost:8080/",
          "height": 564
        },
        "id": "9VFc8BoIWkol",
        "outputId": "a6302215-70ea-4f4a-ad76-39364ae1dd20"
      },
      "execution_count": 7,
      "outputs": [
        {
          "output_type": "display_data",
          "data": {
            "text/plain": [
              "<Figure size 800x600 with 1 Axes>"
            ],
            "image/png": "[encoded data removed]"
          },
          "metadata": {}
        }
      ]
    },
    {
      "cell_type": "code",
      "source": [],
      "metadata": {
        "id": "ucIIuvZOWpiQ"
      },
      "execution_count": null,
      "outputs": []
    }
  ]
}