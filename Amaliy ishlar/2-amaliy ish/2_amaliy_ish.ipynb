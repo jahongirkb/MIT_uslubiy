{
  "nbformat": 4,
  "nbformat_minor": 0,
  "metadata": {
    "colab": {
      "provenance": []
    },
    "kernelspec": {
      "name": "python3",
      "display_name": "Python 3"
    },
    "language_info": {
      "name": "python"
    }
  },
  "cells": [
    {
      "cell_type": "code",
      "source": [
        "# O‘zgaruvchilar va ma'lumotlar turlari\n",
        "x = 10         # Integer\n",
        "y = 3.14       # Float\n",
        "name = \"Ahmad\"  # String\n",
        "is_valid = True # Boolean"
      ],
      "metadata": {
        "id": "VtoSg2ga5lDb"
      },
      "execution_count": 1,
      "outputs": []
    },
    {
      "cell_type": "code",
      "source": [
        "# Izohlar\n",
        "\"\"\"\n",
        "Bu ko‘p qatorli sharh\n",
        "\"\"\""
      ],
      "metadata": {
        "colab": {
          "base_uri": "https://localhost:8080/",
          "height": 36
        },
        "id": "b0Bj-1C45n-P",
        "outputId": "c4d00906-d6ff-435a-bc02-58fe9797d57c"
      },
      "execution_count": 2,
      "outputs": [
        {
          "output_type": "execute_result",
          "data": {
            "text/plain": [
              "'\\nBu ko‘p qatorli sharh\\n'"
            ],
            "application/vnd.google.colaboratory.intrinsic+json": {
              "type": "string"
            }
          },
          "metadata": {},
          "execution_count": 2
        }
      ]
    },
    {
      "cell_type": "code",
      "source": [
        "# Nazorat oqimi\n",
        "if x > 5:\n",
        "    print(\"x katta 5 dan\")\n",
        "elif x == 5:\n",
        "    print(\"x teng 5 ga\")\n",
        "else:\n",
        "    print(\"x kichik 5 dan\")"
      ],
      "metadata": {
        "colab": {
          "base_uri": "https://localhost:8080/"
        },
        "id": "YmEW5wVS5qt7",
        "outputId": "3c08c75f-7b0c-4ce7-8656-f3df05d79a22"
      },
      "execution_count": 3,
      "outputs": [
        {
          "output_type": "stream",
          "name": "stdout",
          "text": [
            "x katta 5 dan\n"
          ]
        }
      ]
    },
    {
      "cell_type": "code",
      "source": [
        "for i in range(5):\n",
        "    print(i)"
      ],
      "metadata": {
        "colab": {
          "base_uri": "https://localhost:8080/"
        },
        "id": "JuHMbzmd5sqX",
        "outputId": "34669d7c-befd-4610-aa40-5bd8f1ae6197"
      },
      "execution_count": 4,
      "outputs": [
        {
          "output_type": "stream",
          "name": "stdout",
          "text": [
            "0\n",
            "1\n",
            "2\n",
            "3\n",
            "4\n"
          ]
        }
      ]
    },
    {
      "cell_type": "code",
      "source": [
        "while y < 5:\n",
        "    print(y)\n",
        "    y += 1"
      ],
      "metadata": {
        "colab": {
          "base_uri": "https://localhost:8080/"
        },
        "id": "ryaUJBZ25uCx",
        "outputId": "a425005a-d866-4338-cd22-5444434ebd04"
      },
      "execution_count": 5,
      "outputs": [
        {
          "output_type": "stream",
          "name": "stdout",
          "text": [
            "3.14\n",
            "4.140000000000001\n"
          ]
        }
      ]
    },
    {
      "cell_type": "code",
      "source": [
        "# Funksiyalar\n",
        "def salomlashuv(ism):\n",
        "    print(\"Salom, \" + ism)\n",
        "salomlashuv(\"Madina\")"
      ],
      "metadata": {
        "colab": {
          "base_uri": "https://localhost:8080/"
        },
        "id": "1MShOj8S5wUP",
        "outputId": "5cbbde88-52a3-4fea-da40-717dcfe2585d"
      },
      "execution_count": 7,
      "outputs": [
        {
          "output_type": "stream",
          "name": "stdout",
          "text": [
            "Salom, Madina\n"
          ]
        }
      ]
    },
    {
      "cell_type": "code",
      "source": [
        "# Ro‘yhatlar va lug‘atlar\n",
        "my_list = [1, 2, 3]\n",
        "my_dict = {\"kalit1\": \"qiymat1\", \"kalit2\": \"qiymat2\"}"
      ],
      "metadata": {
        "id": "snHF1eNl5yf4"
      },
      "execution_count": 8,
      "outputs": []
    },
    {
      "cell_type": "code",
      "source": [
        "# Modul va import\n",
        "import math\n",
        "print(math.sqrt(25))"
      ],
      "metadata": {
        "colab": {
          "base_uri": "https://localhost:8080/"
        },
        "id": "atHm7HG8538Q",
        "outputId": "934b38d8-ecd7-4347-c5af-9b1c2aed4ef2"
      },
      "execution_count": 10,
      "outputs": [
        {
          "output_type": "stream",
          "name": "stdout",
          "text": [
            "5.0\n"
          ]
        }
      ]
    },
    {
      "cell_type": "code",
      "source": [
        "# Satrlar\n",
        "habar = 'Salom'\n",
        "ism = \"Qosim\"\n",
        "print(habar + \", \" + ism)"
      ],
      "metadata": {
        "colab": {
          "base_uri": "https://localhost:8080/"
        },
        "id": "WyT9cTQi55sZ",
        "outputId": "474c4f63-f93f-4bf5-8052-2042a4f0fff0"
      },
      "execution_count": 11,
      "outputs": [
        {
          "output_type": "stream",
          "name": "stdout",
          "text": [
            "Salom, Qosim\n"
          ]
        }
      ]
    },
    {
      "cell_type": "code",
      "source": [
        "# Istisno holatlari uchun Exception\n",
        "try:\n",
        "    result = 10 / 0\n",
        "except ZeroDivisionError:\n",
        "    print(\"0 ga bo‘lib bo‘lmaydi!\")\n",
        "finally:\n",
        "    print(\"Bu har doim amalga oshiriladi.\")"
      ],
      "metadata": {
        "colab": {
          "base_uri": "https://localhost:8080/"
        },
        "id": "vDP2dGUH57aS",
        "outputId": "2fb91e02-1892-4277-c1cc-7c341c682a44"
      },
      "execution_count": 12,
      "outputs": [
        {
          "output_type": "stream",
          "name": "stdout",
          "text": [
            "0 ga bo‘lib bo‘lmaydi!\n",
            "Bu har doim amalga oshiriladi.\n"
          ]
        }
      ]
    },
    {
      "cell_type": "code",
      "source": [],
      "metadata": {
        "id": "elJJT7Ej6Qn5"
      },
      "execution_count": null,
      "outputs": []
    }
  ]
}