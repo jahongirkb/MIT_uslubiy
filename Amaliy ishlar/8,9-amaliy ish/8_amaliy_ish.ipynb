{
  "cells": [
    {
      "cell_type": "code",
      "execution_count": null,
      "metadata": {
        "id": "91DAHgs6pofS"
      },
      "outputs": [],
      "source": [
        "# Kerakli kutubxonalarni import qilish\n",
        "import numpy as np\n",
        "import pandas as pd\n",
        "import matplotlib.pyplot as plt\n",
        "from matplotlib.pyplot import figure\n",
        "import math\n",
        "%matplotlib inline"
      ]
    },
    {
      "cell_type": "code",
      "execution_count": null,
      "metadata": {
        "id": "EvLcU7X4pofS"
      },
      "outputs": [],
      "source": [
        "# Ma'lumotlar to'plamini import qilish\n",
        "df = pd.read_csv('/content/bitcoin_price_Training - Training.csv')"
      ]
    },
    {
      "cell_type": "markdown",
      "metadata": {
        "id": "URsh0XDzpofT"
      },
      "source": [
        "Ma'lumotlar ba'zasi bilan tanishib chiqaylik, ya'ni qanday ustunlar bor, va ulardagi ma'lumotlar qanday ko'rinishda, va h.k."
      ]
    },
    {
      "cell_type": "code",
      "execution_count": null,
      "metadata": {
        "scrolled": true,
        "colab": {
          "base_uri": "https://localhost:8080/",
          "height": 206
        },
        "id": "t4bVsPTZpofT",
        "outputId": "ca012920-dc50-4cb7-9863-6173a87da59b"
      },
      "outputs": [
        {
          "output_type": "execute_result",
          "data": {
            "text/plain": [
              "           Date     Open     High      Low    Close         Volume  \\\n",
              "0  Jul 31, 2017  2763.24  2889.62  2720.61  2875.34    860,575,000   \n",
              "1  Jul 30, 2017  2724.39  2758.53  2644.85  2757.18    705,943,000   \n",
              "2  Jul 29, 2017  2807.02  2808.76  2692.80  2726.45    803,746,000   \n",
              "3  Jul 28, 2017  2679.73  2897.45  2679.73  2809.01  1,380,100,000   \n",
              "4  Jul 27, 2017  2538.71  2693.32  2529.34  2671.78    789,104,000   \n",
              "\n",
              "       Market Cap  \n",
              "0  45,535,800,000  \n",
              "1  44,890,700,000  \n",
              "2  46,246,700,000  \n",
              "3  44,144,400,000  \n",
              "4  41,816,500,000  "
            ],
            "text/html": [
              "\n",
              "  <div id=\"df-d53c1d56-06fa-489a-b8a8-12211eacc8ae\">\n",
              "    <div class=\"colab-df-container\">\n",
              "      <div>\n",
              "<style scoped>\n",
              "    .dataframe tbody tr th:only-of-type {\n",
              "        vertical-align: middle;\n",
              "    }\n",
              "\n",
              "    .dataframe tbody tr th {\n",
              "        vertical-align: top;\n",
              "    }\n",
              "\n",
              "    .dataframe thead th {\n",
              "        text-align: right;\n",
              "    }\n",
              "</style>\n",
              "<table border=\"1\" class=\"dataframe\">\n",
              "  <thead>\n",
              "    <tr style=\"text-align: right;\">\n",
              "      <th></th>\n",
              "      <th>Date</th>\n",
              "      <th>Open</th>\n",
              "      <th>High</th>\n",
              "      <th>Low</th>\n",
              "      <th>Close</th>\n",
              "      <th>Volume</th>\n",
              "      <th>Market Cap</th>\n",
              "    </tr>\n",
              "  </thead>\n",
              "  <tbody>\n",
              "    <tr>\n",
              "      <th>0</th>\n",
              "      <td>Jul 31, 2017</td>\n",
              "      <td>2763.24</td>\n",
              "      <td>2889.62</td>\n",
              "      <td>2720.61</td>\n",
              "      <td>2875.34</td>\n",
              "      <td>860,575,000</td>\n",
              "      <td>45,535,800,000</td>\n",
              "    </tr>\n",
              "    <tr>\n",
              "      <th>1</th>\n",
              "      <td>Jul 30, 2017</td>\n",
              "      <td>2724.39</td>\n",
              "      <td>2758.53</td>\n",
              "      <td>2644.85</td>\n",
              "      <td>2757.18</td>\n",
              "      <td>705,943,000</td>\n",
              "      <td>44,890,700,000</td>\n",
              "    </tr>\n",
              "    <tr>\n",
              "      <th>2</th>\n",
              "      <td>Jul 29, 2017</td>\n",
              "      <td>2807.02</td>\n",
              "      <td>2808.76</td>\n",
              "      <td>2692.80</td>\n",
              "      <td>2726.45</td>\n",
              "      <td>803,746,000</td>\n",
              "      <td>46,246,700,000</td>\n",
              "    </tr>\n",
              "    <tr>\n",
              "      <th>3</th>\n",
              "      <td>Jul 28, 2017</td>\n",
              "      <td>2679.73</td>\n",
              "      <td>2897.45</td>\n",
              "      <td>2679.73</td>\n",
              "      <td>2809.01</td>\n",
              "      <td>1,380,100,000</td>\n",
              "      <td>44,144,400,000</td>\n",
              "    </tr>\n",
              "    <tr>\n",
              "      <th>4</th>\n",
              "      <td>Jul 27, 2017</td>\n",
              "      <td>2538.71</td>\n",
              "      <td>2693.32</td>\n",
              "      <td>2529.34</td>\n",
              "      <td>2671.78</td>\n",
              "      <td>789,104,000</td>\n",
              "      <td>41,816,500,000</td>\n",
              "    </tr>\n",
              "  </tbody>\n",
              "</table>\n",
              "</div>\n",
              "      <button class=\"colab-df-convert\" onclick=\"convertToInteractive('df-d53c1d56-06fa-489a-b8a8-12211eacc8ae')\"\n",
              "              title=\"Convert this dataframe to an interactive table.\"\n",
              "              style=\"display:none;\">\n",
              "        \n",
              "  <svg xmlns=\"http://www.w3.org/2000/svg\" height=\"24px\"viewBox=\"0 0 24 24\"\n",
              "       width=\"24px\">\n",
              "    <path d=\"M0 0h24v24H0V0z\" fill=\"none\"/>\n",
              "    <path d=\"M18.56 5.44l.94 2.06.94-2.06 2.06-.94-2.06-.94-.94-2.06-.94 2.06-2.06.94zm-11 1L8.5 8.5l.94-2.06 2.06-.94-2.06-.94L8.5 2.5l-.94 2.06-2.06.94zm10 10l.94 2.06.94-2.06 2.06-.94-2.06-.94-.94-2.06-.94 2.06-2.06.94z\"/><path d=\"M17.41 7.96l-1.37-1.37c-.4-.4-.92-.59-1.43-.59-.52 0-1.04.2-1.43.59L10.3 9.45l-7.72 7.72c-.78.78-.78 2.05 0 2.83L4 21.41c.39.39.9.59 1.41.59.51 0 1.02-.2 1.41-.59l7.78-7.78 2.81-2.81c.8-.78.8-2.07 0-2.86zM5.41 20L4 18.59l7.72-7.72 1.47 1.35L5.41 20z\"/>\n",
              "  </svg>\n",
              "      </button>\n",
              "      \n",
              "  <style>\n",
              "    .colab-df-container {\n",
              "      display:flex;\n",
              "      flex-wrap:wrap;\n",
              "      gap: 12px;\n",
              "    }\n",
              "\n",
              "    .colab-df-convert {\n",
              "      background-color: #E8F0FE;\n",
              "      border: none;\n",
              "      border-radius: 50%;\n",
              "      cursor: pointer;\n",
              "      display: none;\n",
              "      fill: #1967D2;\n",
              "      height: 32px;\n",
              "      padding: 0 0 0 0;\n",
              "      width: 32px;\n",
              "    }\n",
              "\n",
              "    .colab-df-convert:hover {\n",
              "      background-color: #E2EBFA;\n",
              "      box-shadow: 0px 1px 2px rgba(60, 64, 67, 0.3), 0px 1px 3px 1px rgba(60, 64, 67, 0.15);\n",
              "      fill: #174EA6;\n",
              "    }\n",
              "\n",
              "    [theme=dark] .colab-df-convert {\n",
              "      background-color: #3B4455;\n",
              "      fill: #D2E3FC;\n",
              "    }\n",
              "\n",
              "    [theme=dark] .colab-df-convert:hover {\n",
              "      background-color: #434B5C;\n",
              "      box-shadow: 0px 1px 3px 1px rgba(0, 0, 0, 0.15);\n",
              "      filter: drop-shadow(0px 1px 2px rgba(0, 0, 0, 0.3));\n",
              "      fill: #FFFFFF;\n",
              "    }\n",
              "  </style>\n",
              "\n",
              "      <script>\n",
              "        const buttonEl =\n",
              "          document.querySelector('#df-d53c1d56-06fa-489a-b8a8-12211eacc8ae button.colab-df-convert');\n",
              "        buttonEl.style.display =\n",
              "          google.colab.kernel.accessAllowed ? 'block' : 'none';\n",
              "\n",
              "        async function convertToInteractive(key) {\n",
              "          const element = document.querySelector('#df-d53c1d56-06fa-489a-b8a8-12211eacc8ae');\n",
              "          const dataTable =\n",
              "            await google.colab.kernel.invokeFunction('convertToInteractive',\n",
              "                                                     [key], {});\n",
              "          if (!dataTable) return;\n",
              "\n",
              "          const docLinkHtml = 'Like what you see? Visit the ' +\n",
              "            '<a target=\"_blank\" href=https://colab.research.google.com/notebooks/data_table.ipynb>data table notebook</a>'\n",
              "            + ' to learn more about interactive tables.';\n",
              "          element.innerHTML = '';\n",
              "          dataTable['output_type'] = 'display_data';\n",
              "          await google.colab.output.renderOutput(dataTable, element);\n",
              "          const docLink = document.createElement('div');\n",
              "          docLink.innerHTML = docLinkHtml;\n",
              "          element.appendChild(docLink);\n",
              "        }\n",
              "      </script>\n",
              "    </div>\n",
              "  </div>\n",
              "  "
            ]
          },
          "metadata": {},
          "execution_count": 4
        }
      ],
      "source": [
        "df.head()"
      ]
    },
    {
      "cell_type": "markdown",
      "metadata": {
        "id": "It9KdMrVpofU"
      },
      "source": [
        "Endi ma'lumotlar to'plamining texnik jihatlari bilan tanishsak, ya'ni qanday formatda, qatorlar soni va h.k."
      ]
    },
    {
      "cell_type": "code",
      "execution_count": null,
      "metadata": {
        "colab": {
          "base_uri": "https://localhost:8080/"
        },
        "id": "K9O9CsK5pofU",
        "outputId": "fd1f4dd8-1816-4846-90e7-04d072b09083"
      },
      "outputs": [
        {
          "output_type": "stream",
          "name": "stdout",
          "text": [
            "<class 'pandas.core.frame.DataFrame'>\n",
            "RangeIndex: 1556 entries, 0 to 1555\n",
            "Data columns (total 7 columns):\n",
            " #   Column      Non-Null Count  Dtype  \n",
            "---  ------      --------------  -----  \n",
            " 0   Date        1556 non-null   object \n",
            " 1   Open        1556 non-null   float64\n",
            " 2   High        1556 non-null   float64\n",
            " 3   Low         1556 non-null   float64\n",
            " 4   Close       1556 non-null   float64\n",
            " 5   Volume      1556 non-null   object \n",
            " 6   Market Cap  1556 non-null   object \n",
            "dtypes: float64(4), object(3)\n",
            "memory usage: 85.2+ KB\n"
          ]
        }
      ],
      "source": [
        "df.info()"
      ]
    },
    {
      "cell_type": "code",
      "source": [
        "df.drop([\"Date\", \"Volume\", \"Market Cap\"], axis=1, inplace=True)"
      ],
      "metadata": {
        "id": "ZbRucY9NqIBt"
      },
      "execution_count": null,
      "outputs": []
    },
    {
      "cell_type": "code",
      "execution_count": null,
      "metadata": {
        "colab": {
          "base_uri": "https://localhost:8080/"
        },
        "id": "uWCbu-AupofV",
        "outputId": "b77f8cea-9590-4772-96f8-42c32c403285"
      },
      "outputs": [
        {
          "output_type": "execute_result",
          "data": {
            "text/plain": [
              "(1556, 4)"
            ]
          },
          "metadata": {},
          "execution_count": 7
        }
      ],
      "source": [
        "df.shape"
      ]
    },
    {
      "cell_type": "code",
      "source": [
        "# Ma'lumotlar to'plamini NumPy array ko'rinishiga o'tkazish\n",
        "df = np.array(df, dtype = float)"
      ],
      "metadata": {
        "id": "JScIIr5xq1zs"
      },
      "execution_count": null,
      "outputs": []
    },
    {
      "cell_type": "code",
      "execution_count": null,
      "metadata": {
        "id": "Evyr55PxpofW"
      },
      "outputs": [],
      "source": [
        "# Ma'lumotlar to'plamini bashoratlovchi (x) va yorliq (y) qiymatga ajratib olish\n",
        "X = df[:,:3]"
      ]
    },
    {
      "cell_type": "code",
      "execution_count": null,
      "metadata": {
        "colab": {
          "base_uri": "https://localhost:8080/"
        },
        "id": "DNyYlujupofW",
        "outputId": "17f8efcc-33ee-4d07-b4c7-9746eb929a77"
      },
      "outputs": [
        {
          "output_type": "execute_result",
          "data": {
            "text/plain": [
              "array([[2763.24, 2889.62, 2720.61],\n",
              "       [2724.39, 2758.53, 2644.85],\n",
              "       [2807.02, 2808.76, 2692.8 ],\n",
              "       [2679.73, 2897.45, 2679.73],\n",
              "       [2538.71, 2693.32, 2529.34],\n",
              "       [2577.77, 2610.76, 2450.8 ],\n",
              "       [2757.5 , 2768.08, 2480.96],\n",
              "       [2732.7 , 2777.26, 2699.19],\n",
              "       [2808.1 , 2832.18, 2653.94],\n",
              "       [2668.63, 2862.42, 2657.71]])"
            ]
          },
          "metadata": {},
          "execution_count": 12
        }
      ],
      "source": [
        "X[:10]"
      ]
    },
    {
      "cell_type": "code",
      "execution_count": null,
      "metadata": {
        "colab": {
          "base_uri": "https://localhost:8080/"
        },
        "id": "bR4cd1W4pofW",
        "outputId": "e6d97e28-065c-4c0b-c4b2-e0f5e052dd90"
      },
      "outputs": [
        {
          "output_type": "execute_result",
          "data": {
            "text/plain": [
              "3"
            ]
          },
          "metadata": {},
          "execution_count": 13
        }
      ],
      "source": [
        "X.shape[1]"
      ]
    },
    {
      "cell_type": "markdown",
      "metadata": {
        "id": "frWxLW9gpofX"
      },
      "source": [
        "Ma'lumotlar to'plamidan nishonlarni ajratib olamiz, va *Y* o'zgaruvchisiga yuklaymiz."
      ]
    },
    {
      "cell_type": "code",
      "execution_count": null,
      "metadata": {
        "id": "V2lIkiKapofX"
      },
      "outputs": [],
      "source": [
        "Y = df[:,3:]"
      ]
    },
    {
      "cell_type": "code",
      "execution_count": null,
      "metadata": {
        "colab": {
          "base_uri": "https://localhost:8080/"
        },
        "id": "kr60qfDEpofX",
        "outputId": "0e7e4499-3e38-4f0a-ea65-b7327cbc087f"
      },
      "outputs": [
        {
          "output_type": "execute_result",
          "data": {
            "text/plain": [
              "(1556, 1)"
            ]
          },
          "metadata": {},
          "execution_count": 15
        }
      ],
      "source": [
        "Y.shape"
      ]
    },
    {
      "cell_type": "code",
      "execution_count": null,
      "metadata": {
        "colab": {
          "base_uri": "https://localhost:8080/"
        },
        "id": "p0H0JgBMpofX",
        "outputId": "07c237f2-8a03-45e1-e358-b983148046ae"
      },
      "outputs": [
        {
          "output_type": "execute_result",
          "data": {
            "text/plain": [
              "array([[2875.34],\n",
              "       [2757.18],\n",
              "       [2726.45],\n",
              "       [2809.01],\n",
              "       [2671.78],\n",
              "       [2529.45],\n",
              "       [2576.48],\n",
              "       [2754.86],\n",
              "       [2730.4 ],\n",
              "       [2810.12]])"
            ]
          },
          "metadata": {},
          "execution_count": 16
        }
      ],
      "source": [
        "Y[:10]"
      ]
    },
    {
      "cell_type": "markdown",
      "metadata": {
        "id": "Z9eMfx-DpofY"
      },
      "source": [
        "## Kirish o'zgaruvchilari sayqallanishi - standartlashtirish"
      ]
    },
    {
      "cell_type": "markdown",
      "metadata": {
        "id": "KfHMYKRupofY"
      },
      "source": [
        "Kirish o'zgaruvchilarini sayqallashtirishda standartlashtirish usuilidan foydalanaylik, bunda quyidagi formuladan foydalanamiz:\n",
        "\n",
        "$ x_j^{(i)} := \\frac{x_j^{(i)} - \\mu_j }{S_j} $\n",
        "\n",
        "Yuqoridagi formuladagi o'rta arifmetik qiymat ($\\mu_j$) hamda o'rta kvadratik og'ishni ($S_j$) topishda *numpy* bibliotekasidagi *mean()* va *std()* funksiyalardan foydalanamiz va ushbu formulani ifoda etuvchi *feature_scaling* funksiyasini yarataylik."
      ]
    },
    {
      "cell_type": "code",
      "execution_count": null,
      "metadata": {
        "id": "HLro8STHpofY"
      },
      "outputs": [],
      "source": [
        "# Kiruvchi o'zgaruvchilarning sayqallanishi ya'ni standartizatsiya qilish\n",
        "def feature_scaling(X):\n",
        "    avg_array = np.mean(X, 0)\n",
        "    std_array = np.std(X, 0)\n",
        "    return np.divide(X - avg_array, std_array)"
      ]
    },
    {
      "cell_type": "code",
      "execution_count": null,
      "metadata": {
        "id": "IqUKDJYbpofZ"
      },
      "outputs": [],
      "source": [
        "# Funksiyani x o'zgaruvchisiga qo'llash\n",
        "X = feature_scaling(X)"
      ]
    },
    {
      "cell_type": "code",
      "execution_count": null,
      "metadata": {
        "scrolled": true,
        "colab": {
          "base_uri": "https://localhost:8080/"
        },
        "id": "yWiFZpwmpofZ",
        "outputId": "efa557ef-ea74-4ca8-9567-d76dc51937f7"
      },
      "outputs": [
        {
          "output_type": "execute_result",
          "data": {
            "text/plain": [
              "array([[4.16968102, 4.22172018, 4.25686272],\n",
              "       [4.09539366, 3.98022134, 4.10705497],\n",
              "       [4.25339532, 4.0727569 , 4.20187125],\n",
              "       [4.00999666, 4.23614489, 4.17602665],\n",
              "       [3.74034406, 3.86008907, 3.8786456 ],\n",
              "       [3.81503297, 3.70799399, 3.72334068],\n",
              "       [4.15870523, 3.9978147 , 3.78297904],\n",
              "       [4.1112837 , 4.01472644, 4.21450683],\n",
              "       [4.25546045, 4.11590209, 4.12502953],\n",
              "       [3.9887717 , 4.17161133, 4.13248432]])"
            ]
          },
          "metadata": {},
          "execution_count": 21
        }
      ],
      "source": [
        "X[:10]"
      ]
    },
    {
      "cell_type": "markdown",
      "metadata": {
        "id": "HCLuT4HBpofZ"
      },
      "source": [
        "Vertikal hisoblarda qulay bo'lish uchun, qiymati $1$dan iborat bo'lgan vektor $X_0$ni $X$ massiviga qo'shaylik."
      ]
    },
    {
      "cell_type": "code",
      "execution_count": null,
      "metadata": {
        "id": "-3JzPDAapofZ"
      },
      "outputs": [],
      "source": [
        "# x ma'lumotlarimizga bias ustunini qo'shish\n",
        "def add_bias(X):\n",
        "    A_0 = np.ones((X.shape[0], 1))\n",
        "    return np.hstack((A_0, X))"
      ]
    },
    {
      "cell_type": "code",
      "execution_count": null,
      "metadata": {
        "id": "gHI2HtcmpofZ"
      },
      "outputs": [],
      "source": [
        "# add_bias() funksiyasini X o'zgaruvchisi uchun qo'llash\n",
        "X = add_bias(X)"
      ]
    },
    {
      "cell_type": "code",
      "execution_count": null,
      "metadata": {
        "colab": {
          "base_uri": "https://localhost:8080/"
        },
        "id": "ubsn6949pofa",
        "outputId": "6ce33f10-d418-4ba3-f9bc-51c193ba6ec1"
      },
      "outputs": [
        {
          "output_type": "execute_result",
          "data": {
            "text/plain": [
              "array([[1.        , 4.16968102, 4.22172018, 4.25686272],\n",
              "       [1.        , 4.09539366, 3.98022134, 4.10705497],\n",
              "       [1.        , 4.25339532, 4.0727569 , 4.20187125],\n",
              "       [1.        , 4.00999666, 4.23614489, 4.17602665],\n",
              "       [1.        , 3.74034406, 3.86008907, 3.8786456 ],\n",
              "       [1.        , 3.81503297, 3.70799399, 3.72334068],\n",
              "       [1.        , 4.15870523, 3.9978147 , 3.78297904],\n",
              "       [1.        , 4.1112837 , 4.01472644, 4.21450683],\n",
              "       [1.        , 4.25546045, 4.11590209, 4.12502953],\n",
              "       [1.        , 3.9887717 , 4.17161133, 4.13248432]])"
            ]
          },
          "metadata": {},
          "execution_count": 24
        }
      ],
      "source": [
        "X[:10]"
      ]
    },
    {
      "cell_type": "code",
      "execution_count": null,
      "metadata": {
        "colab": {
          "base_uri": "https://localhost:8080/"
        },
        "id": "BEaZfZNEpofa",
        "outputId": "75e7cfe4-4951-47c5-cb80-e67155c10eb2"
      },
      "outputs": [
        {
          "output_type": "execute_result",
          "data": {
            "text/plain": [
              "4"
            ]
          },
          "metadata": {},
          "execution_count": 25
        }
      ],
      "source": [
        "X.shape[1]"
      ]
    },
    {
      "cell_type": "markdown",
      "metadata": {
        "id": "D5heRtAXpofa"
      },
      "source": [
        "## Ma'lumotlarni mashq/test to'plamlariga bo'lish\n",
        "\n",
        "Bizda mavjud bo'lgan ma'lumotlar to'plamini mash/test to'plamlariga bo'laylik. Bunda biz yaratadigan chiziqli regressiya mashq datasetdan o'rganadi va test datasetdan uning effektivligini tekshiramiz. Mashq/test datasetga bo'lishda 80/20 nisbatdan foydalanamiz, ya'ni ma'lumotlar to'plamining 80% mashq va 20% esa test datasetga bo'lamiz."
      ]
    },
    {
      "cell_type": "code",
      "execution_count": null,
      "metadata": {
        "id": "McFA8FVMpofa"
      },
      "outputs": [],
      "source": [
        "# X ma'lumotlarimzni qatorlar soni\n",
        "rows, _ = X.shape"
      ]
    },
    {
      "cell_type": "code",
      "execution_count": null,
      "metadata": {
        "colab": {
          "base_uri": "https://localhost:8080/"
        },
        "id": "8-ZSeCYppofa",
        "outputId": "c3467081-1466-4efc-9c57-0483797593ab"
      },
      "outputs": [
        {
          "output_type": "execute_result",
          "data": {
            "text/plain": [
              "1556"
            ]
          },
          "metadata": {},
          "execution_count": 27
        }
      ],
      "source": [
        "rows"
      ]
    },
    {
      "cell_type": "code",
      "execution_count": null,
      "metadata": {
        "id": "O0Elf6-9pofb"
      },
      "outputs": [],
      "source": [
        "# Ma'lumotlar to'plamini mashq (train) va sinov (test) to'plamlariga ajratish\n",
        "def split(X, Y):\n",
        "    rows, _ = X.shape\n",
        "    train_rows = round(rows * 0.8)\n",
        "    test_rows = rows - train_rows\n",
        "    return X[0:train_rows,:], X[train_rows:, :], Y[0:train_rows,:], Y[train_rows:, :]"
      ]
    },
    {
      "cell_type": "code",
      "execution_count": null,
      "metadata": {
        "id": "kY5MlTU5pofb"
      },
      "outputs": [],
      "source": [
        "X_train, X_test, Y_train, Y_test = split(X, Y)"
      ]
    },
    {
      "cell_type": "code",
      "execution_count": null,
      "metadata": {
        "colab": {
          "base_uri": "https://localhost:8080/"
        },
        "id": "-qfEWEaopofb",
        "outputId": "796cec51-9c0d-480a-87bd-832153797e01"
      },
      "outputs": [
        {
          "output_type": "execute_result",
          "data": {
            "text/plain": [
              "(1245, 4)"
            ]
          },
          "metadata": {},
          "execution_count": 30
        }
      ],
      "source": [
        "X_train.shape"
      ]
    },
    {
      "cell_type": "code",
      "execution_count": null,
      "metadata": {
        "colab": {
          "base_uri": "https://localhost:8080/"
        },
        "id": "UDmRzCwHpofb",
        "outputId": "a8565b92-ec5f-43e1-e430-5dcd41afbccd"
      },
      "outputs": [
        {
          "output_type": "execute_result",
          "data": {
            "text/plain": [
              "(311, 4)"
            ]
          },
          "metadata": {},
          "execution_count": 31
        }
      ],
      "source": [
        "X_test.shape"
      ]
    },
    {
      "cell_type": "code",
      "execution_count": null,
      "metadata": {
        "colab": {
          "base_uri": "https://localhost:8080/"
        },
        "id": "OLr55MaPpofb",
        "outputId": "3ede9280-1ad4-42b8-f3cf-25945ad360d0"
      },
      "outputs": [
        {
          "output_type": "execute_result",
          "data": {
            "text/plain": [
              "(1245, 1)"
            ]
          },
          "metadata": {},
          "execution_count": 32
        }
      ],
      "source": [
        "Y_train.shape"
      ]
    },
    {
      "cell_type": "code",
      "execution_count": null,
      "metadata": {
        "colab": {
          "base_uri": "https://localhost:8080/"
        },
        "id": "e_hNgiAZpofc",
        "outputId": "ae891604-20a1-4d6d-dc4a-5ac3d97872ec"
      },
      "outputs": [
        {
          "output_type": "execute_result",
          "data": {
            "text/plain": [
              "(311, 1)"
            ]
          },
          "metadata": {},
          "execution_count": 33
        }
      ],
      "source": [
        "Y_test.shape"
      ]
    },
    {
      "cell_type": "markdown",
      "metadata": {
        "id": "kdD2q5UGpofc"
      },
      "source": [
        "## Koefisientlarni inisializatsiya qilish"
      ]
    },
    {
      "cell_type": "markdown",
      "metadata": {
        "id": "JxVPuBzQpofc"
      },
      "source": [
        "Ko'p o'zgaruvchili Chiziqli regressiyaning formulasini eslaylik:\n",
        "<br><br>\n",
        "$     f(x) = a_0 \\times x_0 + a_1 \\times x_1 + a_2 \\times x_2 + \\cdots + a_n \\times x_n $\n",
        "<br><br>\n",
        "Bizda $n = 3$, chunki ma'lumotlar to'plamida 3 ustun mavjud ($4$-ustun bu qiymati $1$dan iborat bo'lgan $a_0$ vektor). Demak bizda, $a_0$ biasni ham hisobga olganda, 4ta koefisient bo'ladi va ularni vektorlangan ko'rinishda 1 o'lchamli massivda ifodalashimiz mumkin. Koefisientlarni inisializatsiya qilishda *numpy* bibliotekasining tasodifiy sonlarni generatsiya qiluvchi *rand* funksiyasidan foydalanamiz."
      ]
    },
    {
      "cell_type": "code",
      "execution_count": null,
      "metadata": {
        "id": "tokNX_nxpofc"
      },
      "outputs": [],
      "source": [
        "# Koeffitsiyentlarga tasodifiy boshlang'ich qiymat berish\n",
        "A = np.random.rand(X.shape[1], 1)"
      ]
    },
    {
      "cell_type": "code",
      "execution_count": null,
      "metadata": {
        "scrolled": true,
        "colab": {
          "base_uri": "https://localhost:8080/"
        },
        "id": "hRlGb76opofc",
        "outputId": "ccae9f34-d9c2-4189-c9da-3b9a76baf253"
      },
      "outputs": [
        {
          "output_type": "execute_result",
          "data": {
            "text/plain": [
              "(4, 1)"
            ]
          },
          "metadata": {},
          "execution_count": 35
        }
      ],
      "source": [
        "A.shape"
      ]
    },
    {
      "cell_type": "code",
      "execution_count": null,
      "metadata": {
        "scrolled": false,
        "colab": {
          "base_uri": "https://localhost:8080/"
        },
        "id": "S4i7Q8LMpofd",
        "outputId": "f8db9911-7eca-4b1f-ddad-d785c1616ac4"
      },
      "outputs": [
        {
          "output_type": "execute_result",
          "data": {
            "text/plain": [
              "array([[0.27190827],\n",
              "       [0.7903575 ],\n",
              "       [0.82250826],\n",
              "       [0.62455353]])"
            ]
          },
          "metadata": {},
          "execution_count": 36
        }
      ],
      "source": [
        "A"
      ]
    },
    {
      "cell_type": "markdown",
      "metadata": {
        "id": "-rOSl5S1pofd"
      },
      "source": [
        "## Chiziqli regressiya funksiyasi\n",
        "Bizda koefisientlar uchun o'zgaruvchilarni aniqlab oldik, endi chiziqli regressiyaning asosiy funksiyani aniqlasak bo'ladi. Ushbu funksiyani *f_x()* deb ataylik."
      ]
    },
    {
      "cell_type": "code",
      "execution_count": null,
      "metadata": {
        "id": "WiRSEXGipofd"
      },
      "outputs": [],
      "source": [
        "# X va A matritsalarning o'zaro ko'paytmasi bizga Y ning bashorat qiymatlarini beradi\n",
        "def f_x(X, A):\n",
        "    return np.dot(X,A)"
      ]
    },
    {
      "cell_type": "markdown",
      "metadata": {
        "id": "NVZxSx0mpofd"
      },
      "source": [
        "## Qiymat funskiyasi va Gradient tushish"
      ]
    },
    {
      "cell_type": "markdown",
      "metadata": {
        "id": "bxA606Uupofd"
      },
      "source": [
        "Chiziqli regressiyaning qiymat funksiyasini eslaylik:\n",
        "<br><br>\n",
        "$     J = \\frac{1}{2m} \\sum_{i=1}^{m} (f(x^{(i)}) - y^{(i)})^2 $\n",
        "\n",
        "<br>\n",
        "Ushbu qimat funksiyasini dasturda ifodalaylik:"
      ]
    },
    {
      "cell_type": "code",
      "execution_count": null,
      "metadata": {
        "id": "dGMmefhSpofe"
      },
      "outputs": [],
      "source": [
        "# Qiymat funksiyasi\n",
        "def cost(X, A, Y, m):\n",
        "    diff = f_x(X, A) - Y\n",
        "    diff_2 = np.power(diff, 2)\n",
        "    sum_ = np.sum(diff_2)\n",
        "    cost_ = sum_ / (2 * m)\n",
        "    return cost_"
      ]
    },
    {
      "cell_type": "markdown",
      "metadata": {
        "id": "SC9Tq8QIpofe"
      },
      "source": [
        "Gradient tushishda esa, biz yuqoridagi qiymat funksiyasini minimallashtiruvchi parametrlarni topamiz. Bunda biz har bir parameter uchun ma'lum bir qator davomida quyidagi ifodani takrorlashimiz kerak:\n",
        "\n",
        "takrorla, $ k=1 \\cdots epochs $ $ \\{ $ <br>\n",
        "&nbsp;&nbsp;&nbsp;&nbsp;&nbsp;&nbsp; $ a_j := a_j - \\alpha \\frac{1}{m} \\sum_{i=1}^{m} (f(x^{(i)}) - y^{(i)}) \\times x^{(i)}_j $ <br>\n",
        "&nbsp;&nbsp;&nbsp;&nbsp; $ \\} $<br>\n",
        "\n",
        "Yuqoridagi siklni amalga oshirishda bir qator giperparametrlarni aniqlab olaylik:\n",
        "- Qadamlar soninig qiymatini $500$ deb belgilaymiz va *epochs* o'zgaruvchisida saqlaymiz\n",
        "- O'rganish darajasini $0.1$ deb belgilaylik va *learning_rate* o'zgaruvchisida saqlaymiz\n",
        "\n",
        "Har bir qadamdagi qiymatni hisoblaymiz va, *costs* massivida saqlaymiz."
      ]
    },
    {
      "cell_type": "code",
      "execution_count": null,
      "metadata": {
        "id": "ECTshdBDpofe"
      },
      "outputs": [],
      "source": [
        "# Epochlar soni va o'rganish darajasini kiritish\n",
        "epochs = 100\n",
        "learning_rate = 0.1"
      ]
    },
    {
      "cell_type": "markdown",
      "metadata": {
        "id": "3BxF0rPIpofe"
      },
      "source": [
        "Gradient tushishni amalga oshiruvchi funksiyani yaratamiz va $gradient\\_descent$ deb nomlaymiz"
      ]
    },
    {
      "cell_type": "code",
      "execution_count": null,
      "metadata": {
        "id": "7GSRVJshpofe"
      },
      "outputs": [],
      "source": [
        "# Gradient tushish funksiyasi\n",
        "def gradient_descent(X_train, Y_train, X_test, Y_test, A, learning_rate, epochs):\n",
        "    m_train = Y_train.shape[0]\n",
        "    m_test = Y_test.shape[0]\n",
        "    train_costs = []\n",
        "    test_costs = []\n",
        "    for k in range(epochs):\n",
        "        fx = f_x(X_train, A)\n",
        "        sum_diff = np.dot(X_train.T, np.subtract(fx, Y_train)) / m_train\n",
        "        A = A - learning_rate * sum_diff\n",
        "        cost_train = cost(X_train, A, Y_train, m_train)\n",
        "        cost_test = cost(X_test, A, Y_test, m_test)\n",
        "        if k % 10 == 0:\n",
        "            print('epoch: %d, %f'% (k, cost_train))\n",
        "            print('epoch: %d, %f'% (k, cost_test))\n",
        "        train_costs.append(cost_train)\n",
        "        test_costs.append(cost_test)\n",
        "    return A, train_costs, test_costs"
      ]
    },
    {
      "cell_type": "markdown",
      "metadata": {
        "id": "myU6qHctpoff"
      },
      "source": [
        "Gradient tushishni amalaga oshiraylik, bunda biz yaratgan *gradient_descent* funksiyasidan foydalanamiz va ushbu funksiya gradient tushishni amalga oshirib, topilgan optimal qiymatni *A* o'zgaruvchisi va har bir qadamdagi *mashq* va *test* to'plamlar uchun qiymat funksiyani ifoda etuvchi *train_costs*, *test_costs* massivlarini qaytaradi."
      ]
    },
    {
      "cell_type": "code",
      "execution_count": null,
      "metadata": {
        "colab": {
          "base_uri": "https://localhost:8080/"
        },
        "id": "T5Pn5jpzpoff",
        "outputId": "937258f6-3c95-4f04-e165-fedac11297cc"
      },
      "outputs": [
        {
          "output_type": "stream",
          "name": "stdout",
          "text": [
            "epoch: 0, 214343.953683\n",
            "epoch: 0, 91622.058892\n",
            "epoch: 10, 15939.362061\n",
            "epoch: 10, 18092.697188\n",
            "epoch: 20, 2247.948043\n",
            "epoch: 20, 2726.807136\n",
            "epoch: 30, 529.440788\n",
            "epoch: 30, 656.114746\n",
            "epoch: 40, 313.032760\n",
            "epoch: 40, 369.275281\n",
            "epoch: 50, 285.486433\n",
            "epoch: 50, 323.680549\n",
            "epoch: 60, 281.686897\n",
            "epoch: 60, 314.298930\n",
            "epoch: 70, 280.873936\n",
            "epoch: 70, 311.559547\n",
            "epoch: 80, 280.437328\n",
            "epoch: 80, 310.398219\n",
            "epoch: 90, 280.048881\n",
            "epoch: 90, 309.699991\n"
          ]
        }
      ],
      "source": [
        "# Modelni o'qitish jarayoni\n",
        "A, train_costs, test_costs = gradient_descent(X_train, Y_train, X_test, Y_test, A, learning_rate, epochs)"
      ]
    },
    {
      "cell_type": "markdown",
      "metadata": {
        "id": "No4WV6hhpoff"
      },
      "source": [
        "Gradient tushishda qiymat funksiyasining qay darajada o'zgarganini vizual ko'rish uchun, grafik *plot_cost* funksiyasini yarataylik, ushbu funksiya *matplotlib* bibliotekasidan foydalanib graf chizadi."
      ]
    },
    {
      "cell_type": "code",
      "execution_count": null,
      "metadata": {
        "id": "yef1uWq6poff"
      },
      "outputs": [],
      "source": [
        "# O'qitish va testlash jarayonida xatolik grafigi funksiyasi\n",
        "def plot_cost(train_costs,test_costs, epochs):\n",
        "    plt.xlabel('Epochs')\n",
        "    plt.ylabel('Cost')\n",
        "    plt.plot(epochs, train_costs, 'm', linewidth = \"1\", color='r', label='mashqdagi xatolik')\n",
        "    plt.plot(epochs, test_costs, 'm', linewidth = \"1\", color='g', label='testdagi xatolik')\n",
        "    plt.legend(loc=\"upper right\")\n",
        "    plt.show()"
      ]
    },
    {
      "cell_type": "markdown",
      "metadata": {
        "id": "3I5Dcd8Bpoff"
      },
      "source": [
        "*plot_cost* funksiyasi parametr sifatida 3 ta massiv o'zgaruvchisini qabul qiladi va bular:\n",
        "-  mashq to'plami uchun qiymat funksiyasining natijasi ifodalangan massiv, *train_costs* o'zgaruvchisi\n",
        "-  test to'plami uchun qiymat funksiyasining natijasi ifodalangan massiv, *test_costs* o'zgaruvchisi\n",
        "- qadamlarni ifoda etuvchi massiv, *epochs* o'zgaruvchisi"
      ]
    },
    {
      "cell_type": "code",
      "execution_count": null,
      "metadata": {
        "scrolled": true,
        "id": "WC1_ZfPjpoff"
      },
      "outputs": [],
      "source": [
        "n_epochs = np.arange(1, epochs + 1)\n",
        "n_train_costs = np.array(train_costs)\n",
        "n_test_costs = np.array(test_costs)"
      ]
    },
    {
      "cell_type": "code",
      "execution_count": null,
      "metadata": {
        "id": "K8LLzOvfpofg"
      },
      "outputs": [],
      "source": [
        "# Xatolikni hisoblash\n",
        "def calculate_loss(X, A, Y):\n",
        "    m = Y.shape[0]\n",
        "    fx = f_x(X, A)\n",
        "    diff = fx - Y\n",
        "    kv = np.power(diff, 2)\n",
        "    sum_kv = np.sum(kv)\n",
        "    kv_m = sum_kv / m\n",
        "    for i in range(m):\n",
        "        print('i: %d, fx: %f, Y: %f, diff: %f, kv: %f'%(i, fx[i], Y[i], diff[i], kv[i]))\n",
        "    rmse = math.sqrt(kv_m)\n",
        "    print('sum: %f, kv_m: %f, rmse: %f'%(sum_kv, kv_m, rmse))\n",
        "    return rmse"
      ]
    },
    {
      "cell_type": "code",
      "execution_count": null,
      "metadata": {
        "colab": {
          "base_uri": "https://localhost:8080/"
        },
        "id": "ZdW0blyMpofg",
        "outputId": "194a1cdc-14d7-49d3-ed3d-50d0d796a2c3"
      },
      "outputs": [
        {
          "output_type": "stream",
          "name": "stdout",
          "text": [
            "i: 0, fx: 674.572744, Y: 666.780000, diff: 7.792744, kv: 60.726858\n",
            "i: 1, fx: 608.224461, Y: 667.760000, diff: -59.535539, kv: 3544.480444\n",
            "i: 2, fx: 564.621834, Y: 559.790000, diff: 4.831834, kv: 23.346621\n",
            "i: 3, fx: 554.909805, Y: 565.610000, diff: -10.700195, kv: 114.494179\n",
            "i: 4, fx: 570.158343, Y: 549.260000, diff: 20.898343, kv: 436.740752\n",
            "i: 5, fx: 581.667172, Y: 578.770000, diff: 2.897172, kv: 8.393605\n",
            "i: 6, fx: 558.082006, Y: 582.690000, diff: -24.607994, kv: 605.553347\n",
            "i: 7, fx: 498.852549, Y: 538.710000, diff: -39.857451, kv: 1588.616404\n",
            "i: 8, fx: 583.939998, Y: 546.320000, diff: 37.619998, kv: 1415.264243\n",
            "i: 9, fx: 616.327583, Y: 605.820000, diff: 10.507583, kv: 110.409306\n",
            "i: 10, fx: 582.933676, Y: 605.420000, diff: -22.486324, kv: 505.634778\n",
            "i: 11, fx: 557.086137, Y: 574.160000, diff: -17.073863, kv: 291.516784\n",
            "i: 12, fx: 602.199722, Y: 556.140000, diff: 46.059722, kv: 2121.497999\n",
            "i: 13, fx: 626.869693, Y: 623.030000, diff: 3.839693, kv: 14.743239\n",
            "i: 14, fx: 629.539488, Y: 626.600000, diff: 2.939488, kv: 8.640593\n",
            "i: 15, fx: 627.051745, Y: 626.270000, diff: 0.781745, kv: 0.611125\n",
            "i: 16, fx: 633.425496, Y: 616.630000, diff: 16.795496, kv: 282.088695\n",
            "i: 17, fx: 652.955557, Y: 650.920000, diff: 2.035557, kv: 4.143494\n",
            "i: 18, fx: 610.201862, Y: 661.990000, diff: -51.788138, kv: 2682.011259\n",
            "i: 19, fx: 637.433210, Y: 605.240000, diff: 32.193210, kv: 1036.402739\n",
            "i: 20, fx: 663.898293, Y: 651.720000, diff: 12.178293, kv: 148.310818\n",
            "i: 21, fx: 677.928714, Y: 672.170000, diff: 5.758714, kv: 33.162781\n",
            "i: 22, fx: 643.510311, Y: 681.030000, diff: -37.519689, kv: 1407.727053\n",
            "i: 23, fx: 680.619136, Y: 682.900000, diff: -2.280864, kv: 5.202341\n",
            "i: 24, fx: 695.201443, Y: 673.920000, diff: 21.281443, kv: 452.899800\n",
            "i: 25, fx: 739.410412, Y: 712.400000, diff: 27.010412, kv: 729.562379\n",
            "i: 26, fx: 803.386701, Y: 781.550000, diff: 21.836701, kv: 476.841515\n",
            "i: 27, fx: 828.501008, Y: 811.910000, diff: 16.591008, kv: 275.261543\n",
            "i: 28, fx: 830.641490, Y: 827.960000, diff: 2.681490, kv: 7.190387\n",
            "i: 29, fx: 821.426189, Y: 823.830000, diff: -2.403811, kv: 5.778307\n",
            "i: 30, fx: 834.974805, Y: 825.370000, diff: 9.604805, kv: 92.252284\n",
            "i: 31, fx: 838.714787, Y: 832.580000, diff: 6.134787, kv: 37.635615\n",
            "i: 32, fx: 823.248827, Y: 829.920000, diff: -6.671173, kv: 44.504549\n",
            "i: 33, fx: 820.421410, Y: 819.030000, diff: 1.391410, kv: 1.936023\n",
            "i: 34, fx: 821.113439, Y: 826.000000, diff: -4.886561, kv: 23.878483\n",
            "i: 35, fx: 792.647423, Y: 812.510000, diff: -19.862577, kv: 394.521956\n",
            "i: 36, fx: 844.495584, Y: 771.390000, diff: 73.105584, kv: 5344.426402\n",
            "i: 37, fx: 867.200876, Y: 885.280000, diff: -18.079124, kv: 326.854716\n",
            "i: 38, fx: 818.486425, Y: 853.610000, diff: -35.123575, kv: 1233.665488\n",
            "i: 39, fx: 811.111073, Y: 797.070000, diff: 14.041073, kv: 197.151740\n",
            "i: 40, fx: 840.774777, Y: 822.040000, diff: 18.734777, kv: 350.991887\n",
            "i: 41, fx: 860.283721, Y: 845.590000, diff: 14.693721, kv: 215.905426\n",
            "i: 42, fx: 871.285074, Y: 863.910000, diff: 7.375074, kv: 54.391720\n",
            "i: 43, fx: 872.778592, Y: 870.200000, diff: 2.578592, kv: 6.649136\n",
            "i: 44, fx: 847.341489, Y: 870.960000, diff: -23.618511, kv: 557.834062\n",
            "i: 45, fx: 826.814619, Y: 840.000000, diff: -13.185381, kv: 173.854274\n",
            "i: 46, fx: 826.647796, Y: 814.640000, diff: 12.007796, kv: 144.187165\n",
            "i: 47, fx: 856.131668, Y: 835.630000, diff: 20.501668, kv: 420.318405\n",
            "i: 48, fx: 847.720113, Y: 860.900000, diff: -13.179887, kv: 173.709412\n",
            "i: 49, fx: 843.626648, Y: 833.270000, diff: 10.356648, kv: 107.260157\n",
            "i: 50, fx: 843.927057, Y: 841.200000, diff: 2.727057, kv: 7.436841\n",
            "i: 51, fx: 901.016189, Y: 863.220000, diff: 37.796189, kv: 1428.551913\n",
            "i: 52, fx: 885.537119, Y: 913.950000, diff: -28.412881, kv: 807.291809\n",
            "i: 53, fx: 848.650799, Y: 868.480000, diff: -19.829201, kv: 393.197207\n",
            "i: 54, fx: 838.139777, Y: 846.860000, diff: -8.720223, kv: 76.042291\n",
            "i: 55, fx: 815.350850, Y: 842.720000, diff: -27.369150, kv: 749.070349\n",
            "i: 56, fx: 904.077940, Y: 802.000000, diff: 102.077940, kv: 10419.905931\n",
            "i: 57, fx: 954.374018, Y: 953.290000, diff: 1.084018, kv: 1.175096\n",
            "i: 58, fx: 890.030765, Y: 933.530000, diff: -43.499235, kv: 1892.183467\n",
            "i: 59, fx: 829.777780, Y: 859.510000, diff: -29.732220, kv: 884.004900\n",
            "i: 60, fx: 810.493319, Y: 818.720000, diff: -8.226681, kv: 67.678272\n",
            "i: 61, fx: 788.627259, Y: 802.390000, diff: -13.762741, kv: 189.413037\n",
            "i: 62, fx: 763.794879, Y: 771.400000, diff: -7.605121, kv: 57.837868\n",
            "i: 63, fx: 754.767295, Y: 754.010000, diff: 0.757295, kv: 0.573495\n",
            "i: 64, fx: 751.273276, Y: 756.130000, diff: -4.856724, kv: 23.587766\n",
            "i: 65, fx: 731.918834, Y: 745.050000, diff: -13.131166, kv: 172.427507\n",
            "i: 66, fx: 731.390548, Y: 727.830000, diff: 3.560548, kv: 12.677503\n",
            "i: 67, fx: 752.354251, Y: 735.070000, diff: 17.284251, kv: 298.745331\n",
            "i: 68, fx: 715.991679, Y: 761.980000, diff: -45.988321, kv: 2114.925640\n",
            "i: 69, fx: 667.380478, Y: 682.210000, diff: -14.829522, kv: 219.914732\n",
            "i: 70, fx: 668.538609, Y: 665.580000, diff: 2.958609, kv: 8.753365\n",
            "i: 71, fx: 635.702145, Y: 673.410000, diff: -37.707855, kv: 1421.882303\n",
            "i: 72, fx: 618.374636, Y: 617.180000, diff: 1.194636, kv: 1.427154\n",
            "i: 73, fx: 617.943232, Y: 605.660000, diff: 12.283232, kv: 150.877794\n",
            "i: 74, fx: 671.954774, Y: 625.320000, diff: 46.634774, kv: 2174.802108\n",
            "i: 75, fx: 574.796606, Y: 691.960000, diff: -117.163394, kv: 13727.260798\n",
            "i: 76, fx: 588.045492, Y: 522.700000, diff: 65.345492, kv: 4270.033325\n",
            "i: 77, fx: 696.897836, Y: 682.120000, diff: 14.777836, kv: 218.384447\n",
            "i: 78, fx: 807.787000, Y: 705.970000, diff: 101.817000, kv: 10366.701486\n",
            "i: 79, fx: 863.619304, Y: 876.120000, diff: -12.500696, kv: 156.267396\n",
            "i: 80, fx: 889.507482, Y: 872.600000, diff: 16.907482, kv: 285.862956\n",
            "i: 81, fx: 893.950579, Y: 892.580000, diff: 1.370579, kv: 1.878488\n",
            "i: 82, fx: 878.276639, Y: 873.260000, diff: 5.016639, kv: 25.166671\n",
            "i: 83, fx: 940.992055, Y: 878.480000, diff: 62.512055, kv: 3907.756974\n",
            "i: 84, fx: 928.963885, Y: 988.510000, diff: -59.546115, kv: 3545.739852\n",
            "i: 85, fx: 832.786988, Y: 893.190000, diff: -60.403012, kv: 3648.523831\n",
            "i: 86, fx: 723.606098, Y: 795.870000, diff: -72.263902, kv: 5222.071544\n",
            "i: 87, fx: 774.231408, Y: 698.230000, diff: 76.001408, kv: 5776.213977\n",
            "i: 88, fx: 969.715244, Y: 829.450000, diff: 140.265244, kv: 19674.338784\n",
            "i: 89, fx: 1065.822985, Y: 1045.110000, diff: 20.712985, kv: 429.027743\n",
            "i: 90, fx: 1104.009894, Y: 1151.170000, diff: -47.160106, kv: 2224.075612\n",
            "i: 91, fx: 1053.424573, Y: 1078.280000, diff: -24.855427, kv: 617.792234\n",
            "i: 92, fx: 983.397467, Y: 1043.330000, diff: -59.932533, kv: 3591.908459\n",
            "i: 93, fx: 1017.072662, Y: 955.850000, diff: 61.222662, kv: 3748.214300\n",
            "i: 94, fx: 1133.931410, Y: 1129.430000, diff: 4.501410, kv: 20.262691\n",
            "i: 95, fx: 1064.571815, Y: 1131.970000, diff: -67.398185, kv: 4542.515362\n",
            "i: 96, fx: 1015.925598, Y: 1031.950000, diff: -16.024402, kv: 256.781448\n",
            "i: 97, fx: 940.507110, Y: 1001.960000, diff: -61.452890, kv: 3776.457647\n",
            "i: 98, fx: 845.925996, Y: 928.100000, diff: -82.174004, kv: 6752.566920\n",
            "i: 99, fx: 780.815273, Y: 799.110000, diff: -18.294727, kv: 334.697034\n",
            "i: 100, fx: 775.783874, Y: 774.250000, diff: 1.533874, kv: 2.352768\n",
            "i: 101, fx: 797.589609, Y: 797.820000, diff: -0.230391, kv: 0.053080\n",
            "i: 102, fx: 724.367899, Y: 771.440000, diff: -47.072101, kv: 2215.782691\n",
            "i: 103, fx: 634.357459, Y: 722.430000, diff: -88.072541, kv: 7756.772455\n",
            "i: 104, fx: 539.891881, Y: 590.830000, diff: -50.938119, kv: 2594.691956\n",
            "i: 105, fx: 652.863076, Y: 584.610000, diff: 68.253076, kv: 4658.482361\n",
            "i: 106, fx: 563.526893, Y: 703.560000, diff: -140.033107, kv: 19609.271055\n",
            "i: 107, fx: 460.576687, Y: 492.110000, diff: -31.533313, kv: 994.349844\n",
            "i: 108, fx: 427.871097, Y: 440.220000, diff: -12.348903, kv: 152.495411\n",
            "i: 109, fx: 417.612958, Y: 417.950000, diff: -0.337042, kv: 0.113598\n",
            "i: 110, fx: 409.205414, Y: 420.200000, diff: -10.994586, kv: 120.880918\n",
            "i: 111, fx: 377.930729, Y: 407.370000, diff: -29.439271, kv: 866.670672\n",
            "i: 112, fx: 349.556956, Y: 360.330000, diff: -10.773044, kv: 116.058481\n",
            "i: 113, fx: 328.986756, Y: 342.440000, diff: -13.453244, kv: 180.989765\n",
            "i: 114, fx: 324.029782, Y: 326.620000, diff: -2.590218, kv: 6.709231\n",
            "i: 115, fx: 342.391016, Y: 339.110000, diff: 3.281016, kv: 10.765064\n",
            "i: 116, fx: 310.649237, Y: 338.110000, diff: -27.460763, kv: 754.093526\n",
            "i: 117, fx: 275.123515, Y: 296.410000, diff: -21.286485, kv: 453.114442\n",
            "i: 118, fx: 250.394020, Y: 262.500000, diff: -12.105980, kv: 146.554753\n",
            "i: 119, fx: 234.711984, Y: 245.240000, diff: -10.528016, kv: 110.839123\n",
            "i: 120, fx: 219.266760, Y: 229.100000, diff: -9.833240, kv: 96.692609\n",
            "i: 121, fx: 207.754220, Y: 215.050000, diff: -7.295780, kv: 53.228402\n",
            "i: 122, fx: 204.515768, Y: 206.220000, diff: -1.704232, kv: 2.904407\n",
            "i: 123, fx: 203.710348, Y: 206.180000, diff: -2.469652, kv: 6.099181\n",
            "i: 124, fx: 200.738408, Y: 204.000000, diff: -3.261592, kv: 10.637980\n",
            "i: 125, fx: 203.900976, Y: 199.970000, diff: 3.930976, kv: 15.452572\n",
            "i: 126, fx: 200.089320, Y: 204.390000, diff: -4.300680, kv: 18.495848\n",
            "i: 127, fx: 195.019686, Y: 198.550000, diff: -3.530314, kv: 12.463116\n",
            "i: 128, fx: 182.397772, Y: 196.440000, diff: -14.042228, kv: 197.184157\n",
            "i: 129, fx: 183.043201, Y: 177.320000, diff: 5.723201, kv: 32.755025\n",
            "i: 130, fx: 187.131848, Y: 186.690000, diff: 0.441848, kv: 0.195230\n",
            "i: 131, fx: 198.496963, Y: 198.230000, diff: 0.266963, kv: 0.071269\n",
            "i: 132, fx: 199.023861, Y: 213.620000, diff: -14.596139, kv: 213.047262\n",
            "i: 133, fx: 186.480475, Y: 193.760000, diff: -7.279525, kv: 52.991482\n",
            "i: 134, fx: 177.435837, Y: 182.210000, diff: -4.774163, kv: 22.792634\n",
            "i: 135, fx: 171.134699, Y: 174.610000, diff: -3.475301, kv: 12.077714\n",
            "i: 136, fx: 162.085850, Y: 172.420000, diff: -10.334150, kv: 106.794654\n",
            "i: 137, fx: 148.440587, Y: 155.960000, diff: -7.519413, kv: 56.541571\n",
            "i: 138, fx: 143.277387, Y: 146.250000, diff: -2.972613, kv: 8.836431\n",
            "i: 139, fx: 145.882674, Y: 142.550000, diff: 3.332674, kv: 11.106713\n",
            "i: 140, fx: 140.915911, Y: 145.240000, diff: -4.324089, kv: 18.697745\n",
            "i: 141, fx: 139.937825, Y: 140.520000, diff: -0.582175, kv: 0.338927\n",
            "i: 142, fx: 135.297766, Y: 138.130000, diff: -2.832234, kv: 8.021551\n",
            "i: 143, fx: 131.508388, Y: 135.190000, diff: -3.681612, kv: 13.554264\n",
            "i: 144, fx: 129.893486, Y: 130.900000, diff: -1.006514, kv: 1.013071\n",
            "i: 145, fx: 129.631651, Y: 130.590000, diff: -0.958349, kv: 0.918433\n",
            "i: 146, fx: 126.824613, Y: 130.690000, diff: -3.865387, kv: 14.941220\n",
            "i: 147, fx: 125.427798, Y: 126.000000, diff: -0.572202, kv: 0.327415\n",
            "i: 148, fx: 127.793410, Y: 126.940000, diff: 0.853410, kv: 0.728309\n",
            "i: 149, fx: 127.174256, Y: 129.000000, diff: -1.825744, kv: 3.333343\n",
            "i: 150, fx: 128.186743, Y: 128.550000, diff: -0.363257, kv: 0.131956\n",
            "i: 151, fx: 124.719851, Y: 129.010000, diff: -4.290149, kv: 18.405378\n",
            "i: 152, fx: 115.575146, Y: 123.630000, diff: -8.054854, kv: 64.880680\n",
            "i: 153, fx: 121.064799, Y: 114.130000, diff: 6.934799, kv: 48.091441\n",
            "i: 154, fx: 132.111601, Y: 132.180000, diff: -0.068399, kv: 0.004678\n",
            "i: 155, fx: 134.300695, Y: 133.000000, diff: 1.300695, kv: 1.691807\n",
            "i: 156, fx: 135.886951, Y: 137.340000, diff: -1.453049, kv: 2.111353\n",
            "i: 157, fx: 133.149391, Y: 134.780000, diff: -1.630609, kv: 2.658886\n",
            "i: 158, fx: 129.833196, Y: 133.780000, diff: -3.946804, kv: 15.577260\n",
            "i: 159, fx: 129.237193, Y: 128.380000, diff: 0.857193, kv: 0.734780\n",
            "i: 160, fx: 127.288366, Y: 128.220000, diff: -0.931634, kv: 0.867941\n",
            "i: 161, fx: 125.444061, Y: 127.250000, diff: -1.805939, kv: 3.261417\n",
            "i: 162, fx: 128.182678, Y: 125.950000, diff: 2.232678, kv: 4.984850\n",
            "i: 163, fx: 128.546943, Y: 129.120000, diff: -0.573057, kv: 0.328394\n",
            "i: 164, fx: 126.410841, Y: 127.430000, diff: -1.019159, kv: 1.038686\n",
            "i: 165, fx: 129.713786, Y: 127.040000, diff: 2.673786, kv: 7.149131\n",
            "i: 166, fx: 129.655500, Y: 129.650000, diff: 0.005500, kv: 0.000030\n",
            "i: 167, fx: 130.974771, Y: 131.470000, diff: -0.495229, kv: 0.245252\n",
            "i: 168, fx: 128.768183, Y: 131.660000, diff: -2.891817, kv: 8.362605\n",
            "i: 169, fx: 130.268069, Y: 131.720000, diff: -1.451931, kv: 2.108104\n",
            "i: 170, fx: 128.840729, Y: 130.370000, diff: -1.529271, kv: 2.338671\n",
            "i: 171, fx: 132.299935, Y: 129.220000, diff: 3.079935, kv: 9.485999\n",
            "i: 172, fx: 133.365801, Y: 134.980000, diff: -1.614199, kv: 2.605639\n",
            "i: 173, fx: 133.603786, Y: 133.130000, diff: 0.473786, kv: 0.224473\n",
            "i: 174, fx: 127.961372, Y: 135.250000, diff: -7.288628, kv: 53.124095\n",
            "i: 175, fx: 126.755800, Y: 125.910000, diff: 0.845800, kv: 0.715377\n",
            "i: 176, fx: 122.572449, Y: 127.110000, diff: -4.537551, kv: 20.589371\n",
            "i: 177, fx: 122.182567, Y: 121.660000, diff: 0.522567, kv: 0.273076\n",
            "i: 178, fx: 120.142138, Y: 124.150000, diff: -4.007862, kv: 16.062961\n",
            "i: 179, fx: 123.310746, Y: 119.150000, diff: 4.160746, kv: 17.311808\n",
            "i: 180, fx: 125.676143, Y: 126.430000, diff: -0.753857, kv: 0.568301\n",
            "i: 181, fx: 133.685229, Y: 126.740000, diff: 6.945229, kv: 48.236207\n",
            "i: 182, fx: 134.775725, Y: 136.770000, diff: -1.994275, kv: 3.977131\n",
            "i: 183, fx: 139.055746, Y: 135.850000, diff: 3.205746, kv: 10.276808\n",
            "i: 184, fx: 137.670507, Y: 138.340000, diff: -0.669493, kv: 0.448220\n",
            "i: 185, fx: 134.674533, Y: 135.350000, diff: -0.675467, kv: 0.456255\n",
            "i: 186, fx: 125.324569, Y: 133.490000, diff: -8.165431, kv: 66.674264\n",
            "i: 187, fx: 121.980837, Y: 122.390000, diff: -0.409163, kv: 0.167414\n",
            "i: 188, fx: 124.545534, Y: 122.620000, diff: 1.925534, kv: 3.707680\n",
            "i: 189, fx: 121.520703, Y: 126.500000, diff: -4.979297, kv: 24.793400\n",
            "i: 190, fx: 120.692261, Y: 120.060000, diff: 0.632261, kv: 0.399754\n",
            "i: 191, fx: 119.680470, Y: 122.110000, diff: -2.429530, kv: 5.902616\n",
            "i: 192, fx: 118.399820, Y: 120.050000, diff: -1.650180, kv: 2.723093\n",
            "i: 193, fx: 119.881308, Y: 118.500000, diff: 1.381308, kv: 1.908012\n",
            "i: 194, fx: 121.560365, Y: 121.150000, diff: 0.410365, kv: 0.168399\n",
            "i: 195, fx: 121.003452, Y: 123.300000, diff: -2.296548, kv: 5.274131\n",
            "i: 196, fx: 118.896430, Y: 121.200000, diff: -2.303570, kv: 5.306436\n",
            "i: 197, fx: 115.026216, Y: 119.000000, diff: -3.973784, kv: 15.790962\n",
            "i: 198, fx: 112.216335, Y: 113.500000, diff: -1.283665, kv: 1.647795\n",
            "i: 199, fx: 109.336070, Y: 113.500000, diff: -4.163930, kv: 17.338312\n",
            "i: 200, fx: 109.306554, Y: 108.990000, diff: 0.316554, kv: 0.100206\n",
            "i: 201, fx: 110.616279, Y: 109.990000, diff: 0.626279, kv: 0.392225\n",
            "i: 202, fx: 109.843899, Y: 112.560000, diff: -2.716101, kv: 7.377204\n",
            "i: 203, fx: 105.992542, Y: 109.000000, diff: -3.007458, kv: 9.044803\n",
            "i: 204, fx: 104.499470, Y: 106.640000, diff: -2.140530, kv: 4.581867\n",
            "i: 205, fx: 102.677817, Y: 105.000000, diff: -2.322183, kv: 5.392536\n",
            "i: 206, fx: 102.076638, Y: 103.000000, diff: -0.923362, kv: 0.852597\n",
            "i: 207, fx: 102.589895, Y: 102.800000, diff: -0.210105, kv: 0.044144\n",
            "i: 208, fx: 103.863899, Y: 103.000000, diff: 0.863899, kv: 0.746321\n",
            "i: 209, fx: 105.832802, Y: 106.750000, diff: -0.917198, kv: 0.841252\n",
            "i: 210, fx: 105.598554, Y: 106.750000, diff: -1.151446, kv: 1.325828\n",
            "i: 211, fx: 105.002598, Y: 106.220000, diff: -1.217402, kv: 1.482067\n",
            "i: 212, fx: 103.832158, Y: 105.140000, diff: -1.307842, kv: 1.710450\n",
            "i: 213, fx: 103.086103, Y: 104.000000, diff: -0.913897, kv: 0.835208\n",
            "i: 214, fx: 103.632668, Y: 104.500000, diff: -0.867332, kv: 0.752265\n",
            "i: 215, fx: 104.717249, Y: 104.000000, diff: 0.717249, kv: 0.514447\n",
            "i: 216, fx: 106.667559, Y: 106.090000, diff: 0.577559, kv: 0.333574\n",
            "i: 217, fx: 102.268094, Y: 107.990000, diff: -5.721906, kv: 32.740211\n",
            "i: 218, fx: 98.841025, Y: 101.200000, diff: -2.358975, kv: 5.564762\n",
            "i: 219, fx: 95.262717, Y: 99.760000, diff: -4.497283, kv: 20.225552\n",
            "i: 220, fx: 94.281447, Y: 94.120000, diff: 0.161447, kv: 0.026065\n",
            "i: 221, fx: 95.810709, Y: 96.020000, diff: -0.209291, kv: 0.043803\n",
            "i: 222, fx: 94.205090, Y: 96.900000, diff: -2.694910, kv: 7.262539\n",
            "i: 223, fx: 93.807552, Y: 94.510000, diff: -0.702448, kv: 0.493433\n",
            "i: 224, fx: 92.284114, Y: 95.560000, diff: -3.275886, kv: 10.731428\n",
            "i: 225, fx: 90.321446, Y: 91.610000, diff: -1.288554, kv: 1.660371\n",
            "i: 226, fx: 88.850464, Y: 90.760000, diff: -1.909536, kv: 3.646326\n",
            "i: 227, fx: 90.384146, Y: 89.390000, diff: 0.994146, kv: 0.988326\n",
            "i: 228, fx: 89.903567, Y: 92.170000, diff: -2.266433, kv: 5.136718\n",
            "i: 229, fx: 93.227218, Y: 90.580000, diff: 2.647218, kv: 7.007763\n",
            "i: 230, fx: 96.599924, Y: 98.500000, diff: -1.900076, kv: 3.610287\n",
            "i: 231, fx: 97.259228, Y: 97.450000, diff: -0.190772, kv: 0.036394\n",
            "i: 232, fx: 95.110445, Y: 98.400000, diff: -3.289555, kv: 10.821171\n",
            "i: 233, fx: 95.648658, Y: 94.690000, diff: 0.958658, kv: 0.919024\n",
            "i: 234, fx: 92.250963, Y: 98.130000, diff: -5.879037, kv: 34.563077\n",
            "i: 235, fx: 92.507325, Y: 93.590000, diff: -1.082675, kv: 1.172184\n",
            "i: 236, fx: 86.675149, Y: 88.980000, diff: -2.304851, kv: 5.312337\n",
            "i: 237, fx: 78.768895, Y: 86.760000, diff: -7.991105, kv: 63.857759\n",
            "i: 238, fx: 74.421527, Y: 76.690000, diff: -2.268473, kv: 5.145971\n",
            "i: 239, fx: 75.158669, Y: 76.520000, diff: -1.361331, kv: 1.853221\n",
            "i: 240, fx: 68.746919, Y: 74.560000, diff: -5.813081, kv: 33.791907\n",
            "i: 241, fx: 68.878620, Y: 70.280000, diff: -1.401380, kv: 1.963866\n",
            "i: 242, fx: 73.758123, Y: 68.430000, diff: 5.328123, kv: 28.388898\n",
            "i: 243, fx: 76.719326, Y: 80.530000, diff: -3.810674, kv: 14.521237\n",
            "i: 244, fx: 84.778737, Y: 77.530000, diff: 7.248737, kv: 52.544194\n",
            "i: 245, fx: 88.211483, Y: 90.130000, diff: -1.918517, kv: 3.680707\n",
            "i: 246, fx: 92.575082, Y: 88.050000, diff: 4.525082, kv: 20.476367\n",
            "i: 247, fx: 94.746877, Y: 96.610000, diff: -1.863123, kv: 3.471228\n",
            "i: 248, fx: 94.799199, Y: 94.990000, diff: -0.190801, kv: 0.036405\n",
            "i: 249, fx: 97.423332, Y: 94.650000, diff: 2.773332, kv: 7.691372\n",
            "i: 250, fx: 102.029193, Y: 101.440000, diff: 0.589193, kv: 0.347149\n",
            "i: 251, fx: 102.895808, Y: 104.000000, diff: -1.104192, kv: 1.219239\n",
            "i: 252, fx: 102.168836, Y: 103.950000, diff: -1.781164, kv: 3.172545\n",
            "i: 253, fx: 104.644792, Y: 102.740000, diff: 1.904792, kv: 3.628234\n",
            "i: 254, fx: 106.776097, Y: 107.600000, diff: -0.823903, kv: 0.678815\n",
            "i: 255, fx: 108.030387, Y: 108.300000, diff: -0.269613, kv: 0.072691\n",
            "i: 256, fx: 110.292133, Y: 109.500000, diff: 0.792133, kv: 0.627475\n",
            "i: 257, fx: 109.013791, Y: 110.150000, diff: -1.136209, kv: 1.290971\n",
            "i: 258, fx: 106.685897, Y: 108.250000, diff: -1.564103, kv: 2.446419\n",
            "i: 259, fx: 103.620313, Y: 107.400000, diff: -3.779687, kv: 14.286035\n",
            "i: 260, fx: 99.367939, Y: 101.700000, diff: -2.332061, kv: 5.438510\n",
            "i: 261, fx: 99.121624, Y: 99.510000, diff: -0.388376, kv: 0.150836\n",
            "i: 262, fx: 99.520242, Y: 99.990000, diff: -0.469758, kv: 0.220672\n",
            "i: 263, fx: 101.125925, Y: 99.980000, diff: 1.145925, kv: 1.313145\n",
            "i: 264, fx: 105.402133, Y: 104.000000, diff: 1.402133, kv: 1.965978\n",
            "i: 265, fx: 108.175630, Y: 108.150000, diff: 0.025630, kv: 0.000657\n",
            "i: 266, fx: 105.631563, Y: 108.900000, diff: -3.268437, kv: 10.682677\n",
            "i: 267, fx: 100.642377, Y: 106.350000, diff: -5.707623, kv: 32.576957\n",
            "i: 268, fx: 100.377699, Y: 100.000000, diff: 0.377699, kv: 0.142656\n",
            "i: 269, fx: 108.911680, Y: 108.300000, diff: 0.611680, kv: 0.374153\n",
            "i: 270, fx: 113.621867, Y: 111.500000, diff: 2.121867, kv: 4.502319\n",
            "i: 271, fx: 119.775205, Y: 118.000000, diff: 1.775205, kv: 3.151353\n",
            "i: 272, fx: 120.681780, Y: 121.650000, diff: -0.968220, kv: 0.937449\n",
            "i: 273, fx: 120.299033, Y: 121.420000, diff: -1.120967, kv: 1.256568\n",
            "i: 274, fx: 119.329390, Y: 122.220000, diff: -2.890610, kv: 8.355627\n",
            "i: 275, fx: 123.415633, Y: 122.290000, diff: 1.125633, kv: 1.267051\n",
            "i: 276, fx: 127.735699, Y: 129.300000, diff: -1.564301, kv: 2.447039\n",
            "i: 277, fx: 127.484069, Y: 129.000000, diff: -1.515931, kv: 2.298047\n",
            "i: 278, fx: 129.575790, Y: 128.800000, diff: 0.775790, kv: 0.601850\n",
            "i: 279, fx: 128.864710, Y: 132.300000, diff: -3.435290, kv: 11.801218\n",
            "i: 280, fx: 127.730958, Y: 129.000000, diff: -1.269042, kv: 1.610469\n",
            "i: 281, fx: 130.191343, Y: 129.750000, diff: 0.441343, kv: 0.194784\n",
            "i: 282, fx: 131.993559, Y: 133.480000, diff: -1.486441, kv: 2.209506\n",
            "i: 283, fx: 130.845080, Y: 131.980000, diff: -1.134920, kv: 1.288042\n",
            "i: 284, fx: 127.695446, Y: 133.200000, diff: -5.504554, kv: 30.300110\n",
            "i: 285, fx: 123.720880, Y: 126.700000, diff: -2.979120, kv: 8.875158\n",
            "i: 286, fx: 122.089658, Y: 123.890000, diff: -1.800342, kv: 3.241233\n",
            "i: 287, fx: 121.202315, Y: 122.880000, diff: -1.677685, kv: 2.814628\n",
            "i: 288, fx: 121.166579, Y: 122.000000, diff: -0.833421, kv: 0.694591\n",
            "i: 289, fx: 121.482787, Y: 121.990000, diff: -0.507213, kv: 0.257265\n",
            "i: 290, fx: 122.796985, Y: 123.500000, diff: -0.703015, kv: 0.494230\n",
            "i: 291, fx: 119.037678, Y: 123.020000, diff: -3.982322, kv: 15.858887\n",
            "i: 292, fx: 114.072944, Y: 118.760000, diff: -4.687056, kv: 21.968498\n",
            "i: 293, fx: 109.088518, Y: 114.220000, diff: -5.131482, kv: 26.332106\n",
            "i: 294, fx: 114.930342, Y: 111.500000, diff: 3.430342, kv: 11.767247\n",
            "i: 295, fx: 115.073666, Y: 117.980000, diff: -2.906334, kv: 8.446775\n",
            "i: 296, fx: 114.558834, Y: 115.000000, diff: -0.441166, kv: 0.194628\n",
            "i: 297, fx: 115.469498, Y: 115.240000, diff: 0.229498, kv: 0.052669\n",
            "i: 298, fx: 114.418342, Y: 117.200000, diff: -2.781658, kv: 7.737624\n",
            "i: 299, fx: 110.985089, Y: 112.670000, diff: -1.684911, kv: 2.838924\n",
            "i: 300, fx: 110.681169, Y: 113.570000, diff: -2.888831, kv: 8.345345\n",
            "i: 301, fx: 106.523900, Y: 111.500000, diff: -4.976100, kv: 24.761574\n",
            "i: 302, fx: 114.545715, Y: 112.300000, diff: 2.245715, kv: 5.043237\n",
            "i: 303, fx: 111.841813, Y: 115.910000, diff: -4.068187, kv: 16.550142\n",
            "i: 304, fx: 100.558105, Y: 112.500000, diff: -11.941895, kv: 142.608854\n",
            "i: 305, fx: 96.197050, Y: 97.750000, diff: -1.552950, kv: 2.411653\n",
            "i: 306, fx: 109.827631, Y: 105.210000, diff: 4.617631, kv: 21.322515\n",
            "i: 307, fx: 127.309607, Y: 116.990000, diff: 10.319607, kv: 106.494288\n",
            "i: 308, fx: 140.638963, Y: 139.000000, diff: 1.638963, kv: 2.686199\n",
            "i: 309, fx: 137.691786, Y: 144.540000, diff: -6.848214, kv: 46.898037\n",
            "i: 310, fx: 133.594377, Y: 134.210000, diff: -0.615623, kv: 0.378991\n",
            "sum: 192326.125407, kv_m: 618.411979, rmse: 24.867891\n",
            "root mean squared errrors:  24.867890517693723\n"
          ]
        }
      ],
      "source": [
        "# Har bir epoch uchun xatolikni ekranga chop etish\n",
        "print('root mean squared errrors: ', calculate_loss(X_test, A, Y_test))"
      ]
    },
    {
      "cell_type": "markdown",
      "metadata": {
        "id": "pB1F9HV2pofg"
      },
      "source": [
        "Gradient tushish orqali topilgan optimal koefisientlar qiymatlari bilan ham tanishishimiz mumkin:"
      ]
    },
    {
      "cell_type": "code",
      "execution_count": null,
      "metadata": {
        "scrolled": true,
        "colab": {
          "base_uri": "https://localhost:8080/"
        },
        "id": "J7x6ZzCRpofg",
        "outputId": "f792107a-7afb-4fa9-ac6a-2ca6fc0888e6"
      },
      "outputs": [
        {
          "output_type": "execute_result",
          "data": {
            "text/plain": [
              "array([[583.69199066],\n",
              "       [170.07727247],\n",
              "       [174.29079978],\n",
              "       [181.36673665]])"
            ]
          },
          "metadata": {},
          "execution_count": 46
        }
      ],
      "source": [
        "A"
      ]
    },
    {
      "cell_type": "markdown",
      "metadata": {
        "id": "mp-Ix97ipofg"
      },
      "source": [
        "Qiymat funksiyasini har qadamda o'zgarishini *plot_cost* funksiyasi orqali grafik tarzda ifodalaylik."
      ]
    },
    {
      "cell_type": "code",
      "execution_count": null,
      "metadata": {
        "colab": {
          "base_uri": "https://localhost:8080/",
          "height": 520
        },
        "id": "UBrQ3qOupofg",
        "outputId": "4328f647-0005-475b-946c-649b3d8a9cb7"
      },
      "outputs": [
        {
          "output_type": "stream",
          "name": "stderr",
          "text": [
            "<ipython-input-42-ad8d645f5eb4>:4: UserWarning: color is redundantly defined by the 'color' keyword argument and the fmt string \"m\" (-> color=(0.75, 0.0, 0.75, 1)). The keyword argument will take precedence.\n",
            "  plt.plot(epochs, train_costs, 'm', linewidth = \"1\", color='r', label='mashqdagi xatolik')\n",
            "<ipython-input-42-ad8d645f5eb4>:5: UserWarning: color is redundantly defined by the 'color' keyword argument and the fmt string \"m\" (-> color=(0.75, 0.0, 0.75, 1)). The keyword argument will take precedence.\n",
            "  plt.plot(epochs, test_costs, 'm', linewidth = \"1\", color='g', label='testdagi xatolik')\n"
          ]
        },
        {
          "output_type": "display_data",
          "data": {
            "text/plain": [
              "<Figure size 640x480 with 1 Axes>"
            ],
            "image/png": "[encoded data removed]"
          },
          "metadata": {
            "needs_background": "light"
          }
        }
      ],
      "source": [
        "# Xatolik grafigi funksiyasini ishga tushirish\n",
        "figure(figsize=(8, 6), dpi=80)\n",
        "\n",
        "plot_cost(train_costs, test_costs, n_epochs)"
      ]
    },
    {
      "cell_type": "markdown",
      "metadata": {
        "id": "yTRw2Hiypofh"
      },
      "source": [
        "Yuqoridagi grafdan ko'rib turibmizki, xatolik mashq to'plamida ham, test to'plamida ham har qadamda tushib boryapti. Bundan xulosa qilishimiz mumkinki, biz yaratgan chiziqli regressiya to'g'ri ishlayapti.\n",
        "\n",
        "Endi amalda test to'plamdagi birinchi 10 qatorni chiziqli regressiya topgan koefisientlar orqali bashorat qilaylik va haqiqiy nishonlar bilan tekshiraylik:"
      ]
    },
    {
      "cell_type": "code",
      "execution_count": null,
      "metadata": {
        "scrolled": true,
        "colab": {
          "base_uri": "https://localhost:8080/"
        },
        "id": "MjmBFuMtpofh",
        "outputId": "f9892e93-39a5-4cf0-c6bb-14da2967a274"
      },
      "outputs": [
        {
          "output_type": "stream",
          "name": "stdout",
          "text": [
            "bashorat: 674.572744, haqiqiy: 666.780000\n",
            "bashorat: 608.224461, haqiqiy: 667.760000\n",
            "bashorat: 564.621834, haqiqiy: 559.790000\n",
            "bashorat: 554.909805, haqiqiy: 565.610000\n",
            "bashorat: 570.158343, haqiqiy: 549.260000\n",
            "bashorat: 581.667172, haqiqiy: 578.770000\n",
            "bashorat: 558.082006, haqiqiy: 582.690000\n",
            "bashorat: 498.852549, haqiqiy: 538.710000\n",
            "bashorat: 583.939998, haqiqiy: 546.320000\n",
            "bashorat: 616.327583, haqiqiy: 605.820000\n"
          ]
        }
      ],
      "source": [
        "m_to_predict = 10\n",
        "\n",
        "predicted = f_x(X_test[:m_to_predict,:], A)\n",
        "\n",
        "for i in range(m_to_predict):\n",
        "    print('bashorat: %f, haqiqiy: %f'%(predicted[i], Y_test[i]))"
      ]
    },
    {
      "cell_type": "markdown",
      "metadata": {
        "id": "yf8z-Pm5pofh"
      },
      "source": [
        "Ko'rib turibmizki, biroz xatolik bilan bo'lsada, bashorat qilingan nishonlar haqiqiy nishonlar qiymatlariga bilan yaqin."
      ]
    }
  ],
  "metadata": {
    "kernelspec": {
      "display_name": "Python 3",
      "language": "python",
      "name": "python3"
    },
    "language_info": {
      "codemirror_mode": {
        "name": "ipython",
        "version": 3
      },
      "file_extension": ".py",
      "mimetype": "text/x-python",
      "name": "python",
      "nbconvert_exporter": "python",
      "pygments_lexer": "ipython3",
      "version": "3.8.8"
    },
    "colab": {
      "provenance": []
    }
  },
  "nbformat": 4,
  "nbformat_minor": 0
}